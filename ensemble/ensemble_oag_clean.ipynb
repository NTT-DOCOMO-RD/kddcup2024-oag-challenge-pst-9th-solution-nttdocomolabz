{
 "cells": [
  {
   "cell_type": "code",
   "execution_count": 1,
   "metadata": {},
   "outputs": [],
   "source": [
    "import pandas as pd\n",
    "import json\n",
    "from os.path import join\n",
    "import os"
   ]
  },
  {
   "cell_type": "code",
   "execution_count": 2,
   "metadata": {},
   "outputs": [],
   "source": [
    "def load_json(rfdir, rfname):\n",
    "    print(\"loading %s ...\", rfname)\n",
    "    with open(join(rfdir, rfname), \"r\", encoding=\"utf-8\") as rf:\n",
    "        data = json.load(rf)\n",
    "        print(\"%s loaded\", rfname)\n",
    "        return data"
   ]
  },
  {
   "cell_type": "code",
   "execution_count": 3,
   "metadata": {},
   "outputs": [],
   "source": [
    "df_catboost_0 = pd.read_csv(\"../classifier_output/catboost_0/test_pub_prediction.csv\")\n",
    "df_lgbm = pd.read_csv(\"../classifier_output/lgbm_binary/test_pub_prediction.csv\")\n",
    "df_svm = pd.read_csv(\"../classifier_output/svm_feat_without_emb/test_pub_prediction.csv\")\n",
    "df_rf = pd.read_csv(\"../classifier_output/rf/test_pub_prediction.csv\")\n",
    "df_catboost_dbpl_2_oag_clean = pd.read_csv(\"../classifier_output/catboost_0_dblp_2_clean/test_pub_prediction.csv\")\n",
    "df_lgbm_dblp_2_oag_clean = pd.read_csv(\"../classifier_output/lgbm_dblp_2_clean/test_pub_prediction.csv\")"
   ]
  },
  {
   "cell_type": "code",
   "execution_count": 4,
   "metadata": {},
   "outputs": [],
   "source": [
    "df_catboost_0.rename(columns={\"score\": \"catboost_0\"}, inplace=True)\n",
    "df_lgbm.rename(columns={\"score\": \"lgbm\"}, inplace=True)\n",
    "df_svm.rename(columns={\"score\": \"svm\"}, inplace=True)\n",
    "df_rf.rename(columns={\"score\": \"rf\"}, inplace=True)\n",
    "df_catboost_dbpl_2_oag_clean.rename(columns={\"mean\": \"catboost_dbpl_2_oag_clean\"}, inplace=True)\n",
    "df_lgbm_dblp_2_oag_clean.rename(columns={\"mean\": \"lgbm_dblp_2_oag_clean\"}, inplace=True)"
   ]
  },
  {
   "cell_type": "code",
   "execution_count": 7,
   "metadata": {},
   "outputs": [],
   "source": [
    "df = df_catboost_0[[\"pid\", \"bid\"]].copy()"
   ]
  },
  {
   "cell_type": "code",
   "execution_count": 9,
   "metadata": {},
   "outputs": [],
   "source": [
    "df = pd.concat(\n",
    "    [\n",
    "        df,\n",
    "        df_catboost_0[\"catboost_0\"],\n",
    "        df_lgbm[\"lgbm\"],\n",
    "        df_svm[\"svm\"],\n",
    "        df_rf[\"rf\"],\n",
    "        df_catboost_dbpl_2_oag_clean[\"catboost_dbpl_2_oag_clean\"],\n",
    "        df_lgbm_dblp_2_oag_clean[\"lgbm_dblp_2_oag_clean\"],\n",
    "    ], axis=1)"
   ]
  },
  {
   "cell_type": "code",
   "execution_count": 10,
   "metadata": {},
   "outputs": [],
   "source": [
    "df[\"mean\"] = df.drop([\"pid\", \"bid\"], axis=1).mean(axis=1)"
   ]
  },
  {
   "cell_type": "code",
   "execution_count": 11,
   "metadata": {},
   "outputs": [
    {
     "data": {
      "text/html": [
       "<div>\n",
       "<style scoped>\n",
       "    .dataframe tbody tr th:only-of-type {\n",
       "        vertical-align: middle;\n",
       "    }\n",
       "\n",
       "    .dataframe tbody tr th {\n",
       "        vertical-align: top;\n",
       "    }\n",
       "\n",
       "    .dataframe thead th {\n",
       "        text-align: right;\n",
       "    }\n",
       "</style>\n",
       "<table border=\"1\" class=\"dataframe\">\n",
       "  <thead>\n",
       "    <tr style=\"text-align: right;\">\n",
       "      <th></th>\n",
       "      <th>pid</th>\n",
       "      <th>bid</th>\n",
       "      <th>catboost_0</th>\n",
       "      <th>lgbm</th>\n",
       "      <th>svm</th>\n",
       "      <th>rf</th>\n",
       "      <th>catboost_dbpl_2_oag_clean</th>\n",
       "      <th>lgbm_dblp_2_oag_clean</th>\n",
       "      <th>mean</th>\n",
       "    </tr>\n",
       "  </thead>\n",
       "  <tbody>\n",
       "    <tr>\n",
       "      <th>0</th>\n",
       "      <td>621454435aee126c0f1d7065</td>\n",
       "      <td>b0</td>\n",
       "      <td>0.018590</td>\n",
       "      <td>0.022770</td>\n",
       "      <td>0.017920</td>\n",
       "      <td>0.028</td>\n",
       "      <td>0.017844</td>\n",
       "      <td>0.022261</td>\n",
       "      <td>0.021231</td>\n",
       "    </tr>\n",
       "    <tr>\n",
       "      <th>1</th>\n",
       "      <td>621454435aee126c0f1d7065</td>\n",
       "      <td>b1</td>\n",
       "      <td>0.005550</td>\n",
       "      <td>0.005622</td>\n",
       "      <td>0.030506</td>\n",
       "      <td>0.010</td>\n",
       "      <td>0.007005</td>\n",
       "      <td>0.005156</td>\n",
       "      <td>0.010640</td>\n",
       "    </tr>\n",
       "    <tr>\n",
       "      <th>2</th>\n",
       "      <td>621454435aee126c0f1d7065</td>\n",
       "      <td>b2</td>\n",
       "      <td>0.006211</td>\n",
       "      <td>0.007057</td>\n",
       "      <td>0.029261</td>\n",
       "      <td>0.012</td>\n",
       "      <td>0.007679</td>\n",
       "      <td>0.005679</td>\n",
       "      <td>0.011314</td>\n",
       "    </tr>\n",
       "    <tr>\n",
       "      <th>3</th>\n",
       "      <td>621454435aee126c0f1d7065</td>\n",
       "      <td>b3</td>\n",
       "      <td>0.009465</td>\n",
       "      <td>0.006741</td>\n",
       "      <td>0.024240</td>\n",
       "      <td>0.018</td>\n",
       "      <td>0.010402</td>\n",
       "      <td>0.006746</td>\n",
       "      <td>0.012599</td>\n",
       "    </tr>\n",
       "    <tr>\n",
       "      <th>4</th>\n",
       "      <td>621454435aee126c0f1d7065</td>\n",
       "      <td>b4</td>\n",
       "      <td>0.012631</td>\n",
       "      <td>0.006983</td>\n",
       "      <td>0.035684</td>\n",
       "      <td>0.030</td>\n",
       "      <td>0.011932</td>\n",
       "      <td>0.007411</td>\n",
       "      <td>0.017440</td>\n",
       "    </tr>\n",
       "  </tbody>\n",
       "</table>\n",
       "</div>"
      ],
      "text/plain": [
       "                        pid bid  catboost_0      lgbm       svm     rf  \\\n",
       "0  621454435aee126c0f1d7065  b0    0.018590  0.022770  0.017920  0.028   \n",
       "1  621454435aee126c0f1d7065  b1    0.005550  0.005622  0.030506  0.010   \n",
       "2  621454435aee126c0f1d7065  b2    0.006211  0.007057  0.029261  0.012   \n",
       "3  621454435aee126c0f1d7065  b3    0.009465  0.006741  0.024240  0.018   \n",
       "4  621454435aee126c0f1d7065  b4    0.012631  0.006983  0.035684  0.030   \n",
       "\n",
       "   catboost_dbpl_2_oag_clean  lgbm_dblp_2_oag_clean      mean  \n",
       "0                   0.017844               0.022261  0.021231  \n",
       "1                   0.007005               0.005156  0.010640  \n",
       "2                   0.007679               0.005679  0.011314  \n",
       "3                   0.010402               0.006746  0.012599  \n",
       "4                   0.011932               0.007411  0.017440  "
      ]
     },
     "execution_count": 11,
     "metadata": {},
     "output_type": "execute_result"
    }
   ],
   "source": [
    "df.head()"
   ]
  },
  {
   "cell_type": "code",
   "execution_count": 12,
   "metadata": {},
   "outputs": [],
   "source": [
    "submit = {}\n",
    "for pid, _df in df.groupby(\"pid\"):\n",
    "    _df[\"bid_int\"] = _df[\"bid\"].apply(lambda x: int(x[1:]))\n",
    "    _df = _df.sort_values(\"bid_int\")\n",
    "    submit[pid] = _df[\"mean\"].tolist()"
   ]
  },
  {
   "cell_type": "code",
   "execution_count": 13,
   "metadata": {},
   "outputs": [
    {
     "name": "stdout",
     "output_type": "stream",
     "text": [
      "loading %s ... submission_example_test.json\n",
      "%s loaded submission_example_test.json\n",
      "0 0.0\n"
     ]
    }
   ],
   "source": [
    "submit_example = load_json(f\"../dataset/PST\", \"submission_example_test.json\")\n",
    "count = 0\n",
    "for key in submit_example.keys():\n",
    "    if submit.get(key) is None:\n",
    "        count += 1\n",
    "        print(f\"{key} not found\")\n",
    "        continue\n",
    "    if len(submit[key]) != len(submit_example[key]):\n",
    "        count += 1\n",
    "        print(key, len(submit[key]), len(submit_example[key]))\n",
    "\n",
    "print(count, count / len(submit))"
   ]
  },
  {
   "cell_type": "code",
   "execution_count": 14,
   "metadata": {},
   "outputs": [],
   "source": [
    "for k, v in submit.items():\n",
    "    for value in v:\n",
    "        if value < 0 or 1 < value:\n",
    "            print(k, value)"
   ]
  },
  {
   "cell_type": "code",
   "execution_count": 15,
   "metadata": {},
   "outputs": [],
   "source": [
    "os.makedirs(\"../submit\", exist_ok=True)\n",
    "json.dump(\n",
    "    submit, open(\"../submit/ensemble_final.json\", \"w\")\n",
    ")"
   ]
  }
 ],
 "metadata": {
  "kernelspec": {
   "display_name": "pst2-v5vgsebt-py3.9",
   "language": "python",
   "name": "python3"
  },
  "language_info": {
   "codemirror_mode": {
    "name": "ipython",
    "version": 3
   },
   "file_extension": ".py",
   "mimetype": "text/x-python",
   "name": "python",
   "nbconvert_exporter": "python",
   "pygments_lexer": "ipython3",
   "version": "3.9.5"
  }
 },
 "nbformat": 4,
 "nbformat_minor": 2
}
