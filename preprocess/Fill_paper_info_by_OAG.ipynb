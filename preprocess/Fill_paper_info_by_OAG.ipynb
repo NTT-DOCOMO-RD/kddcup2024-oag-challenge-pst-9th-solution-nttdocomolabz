{
 "cells": [
  {
   "cell_type": "code",
   "execution_count": null,
   "metadata": {},
   "outputs": [],
   "source": [
    "import os\n",
    "import time\n",
    "import json\n",
    "import numpy as np\n",
    "import pandas as pd\n",
    "from tqdm import tqdm"
   ]
  },
  {
   "cell_type": "code",
   "execution_count": null,
   "metadata": {},
   "outputs": [],
   "source": [
    "oag_path = 'path_to_OAG_dataset'\n",
    "feat_path = 'path_to_context_feature'"
   ]
  },
  {
   "cell_type": "code",
   "execution_count": null,
   "metadata": {},
   "outputs": [],
   "source": [
    "df_train_context = pd.read_csv(os.path.join(feat_path, 'train_context_filled.csv'))\n",
    "df_test_pub_gen_context = pd.read_csv(os.path.join(feat_path, 'test_pub_context_gen_title.csv'))"
   ]
  },
  {
   "cell_type": "code",
   "execution_count": null,
   "metadata": {},
   "outputs": [],
   "source": [
    "train_null_title = df_train_context[df_train_context.ref_pid.isnull()]['ref_title']\n",
    "test_pub_gen_null_title = df_test_pub_gen_context[df_test_pub_gen_context.ref_pid.isnull()]['ref_title']"
   ]
  },
  {
   "cell_type": "code",
   "execution_count": null,
   "metadata": {},
   "outputs": [],
   "source": [
    "df_oag_title_train = pd.DataFrame([], columns=['ref_title','id','title'])\n",
    "df_oag_title_test_pub_gen = pd.DataFrame([], columns=['ref_title','id','title'])\n",
    "\n",
    "\n",
    "for j in range(1,14):\n",
    "    for i in range(10):\n",
    "        print(j, i)\n",
    "        finename = \"v3.1_oag_publication_\"+str(j)+\"_0\"+str(i)\n",
    "        out_file = finename+\".gz\"\n",
    "        start_time = time.time()\n",
    "        \n",
    "        try:\n",
    "            df_oag = pd.read_csv(os.path.join(oag_path, out_file))\n",
    "            df_oag['title'] = df_oag['title'].str.lower()\n",
    "            print('Finish loading', time.time() - start_time)\n",
    "\n",
    "            df_temp_oag_title_train = pd.merge(test_pub_null_title.drop_duplicates(), df_oag, left_on='ref_title', right_on='title')\n",
    "            df_oag_title_train = pd.concat([df_oag_title_train, df_temp_oag_title_train])\n",
    "            \n",
    "            df_temp_oag_title_test = pd.merge(test_pub_gen_null_title.drop_duplicates(), df_oag, left_on='ref_title', right_on='title')\n",
    "            df_oag_title_test_pub_gen = pd.concat([df_oag_title_test_pub_gen, df_temp_oag_title_test])\n",
    "            \n",
    "            print('Finish extracting', time.time() - start_time)\n",
    "        except:\n",
    "            print('Not exist', out_file)\n"
   ]
  },
  {
   "cell_type": "code",
   "execution_count": null,
   "metadata": {},
   "outputs": [],
   "source": [
    "df_oag_id_title = pd.concat([df_oag_title_train[['id','title']], df_oag_title_test_pub_gen[['id','title']]]).drop_duplicates()\n",
    "df_oag_id_title"
   ]
  },
  {
   "cell_type": "code",
   "execution_count": null,
   "metadata": {},
   "outputs": [],
   "source": [
    "df_OAG_extracted = pd.DataFrame([], columns=['id', 'title', 'abstract', 'keywords', 'year', 'authors', 'references', 'doi', 'venue_id', 'n_citation', 'venue'])\n",
    "\n",
    "for j in range(1,14):\n",
    "    for i in range(10):\n",
    "        print(j, i)\n",
    "        finename = \"v3.1_oag_publication_\"+str(j)+\"_0\"+str(i)\n",
    "        src_fiile = finename+\".json\"\n",
    "        out_file = finename+\".gz\"\n",
    "        start_time = time.time()\n",
    "        \n",
    "        try:\n",
    "            df = [json.loads(line)\n",
    "                    for line in open(os.path.join(oag_path, src_fiile), 'r', encoding='utf-8')]\n",
    "            print('Finish loading', time.time() - start_time)\n",
    "            df = pd.DataFrame(df)\n",
    "            df_OAG_extracted = pd.concat([df_OAG_extracted, df[df.id.isin(df_oag_id_title['id'])]])\n",
    "\n",
    "            print('Finish extracting', time.time() - start_time)\n",
    "        except:\n",
    "            print('Not exist', src_fiile)\n",
    "            \n",
    "df_OAG_extracted = df_OAG_extracted.reset_index(drop=True)\n"
   ]
  },
  {
   "cell_type": "code",
   "execution_count": null,
   "metadata": {},
   "outputs": [],
   "source": [
    "df_OAG_extracted['title'] = df_OAG_extracted['title'].str.lower()"
   ]
  },
  {
   "cell_type": "code",
   "execution_count": null,
   "metadata": {},
   "outputs": [],
   "source": [
    "df_OAG_extracted"
   ]
  },
  {
   "cell_type": "code",
   "execution_count": null,
   "metadata": {},
   "outputs": [],
   "source": [
    "# df_OAG_extracted.to_csv('df_OAG_extracted_test.csv',index=False)"
   ]
  },
  {
   "cell_type": "code",
   "execution_count": null,
   "metadata": {},
   "outputs": [],
   "source": [
    "df_OAG_sort = df_OAG_extracted.sort_values(['title', 'n_citation','year'], ascending=[True, False,False])"
   ]
  },
  {
   "cell_type": "code",
   "execution_count": null,
   "metadata": {},
   "outputs": [],
   "source": [
    "df_OAG_sort = df_OAG_sort.drop_duplicates(subset='title', ignore_index=True)\n",
    "df_OAG_sort"
   ]
  },
  {
   "cell_type": "code",
   "execution_count": null,
   "metadata": {},
   "outputs": [],
   "source": [
    "df_OAG_sort.columns = ['ref_pid','ref_title','ref_abstract','ref_keywords','ref_year','authors','references','ref_doi','venue_id','n_citation','ref_venue']"
   ]
  },
  {
   "cell_type": "code",
   "execution_count": null,
   "metadata": {},
   "outputs": [],
   "source": [
    "train_context_filled = []\n",
    "\n",
    "for i, row in tqdm(df_train_context.iterrows(), total=df_train_context.shape[0]):\n",
    "    if pd.isna(row['ref_pid']):\n",
    "        df_extracted = df_OAG_sort[df_OAG_sort.ref_title==row['ref_title']]\n",
    "#         display(df_extracted)\n",
    "        if df_extracted.shape[0]==0:\n",
    "            train_context_filled.append(list(row.values))\n",
    "        else:\n",
    "            train_context_filled.append([row['pid'], row['title'], df_extracted['ref_pid'].values[0], row['bid'],row['ref_title'], row['context'],\n",
    "                                                             row['context_clean'], row['abstract'], df_extracted['ref_abstract'].values[0], row['xml_ref_count'], \n",
    "                                                             row['context_bibr_count'],row['context_target_bibr_count'],  \n",
    "                                                             row['context_other_bibr_count'], row['keywords'], df_extracted['ref_keywords'].values[0], row['year'], \n",
    "                                                             int(df_extracted['ref_year'].values[0]), row['venue'], df_extracted['ref_venue'].values[0], row['org'], \n",
    "                                                             row['ref_org'], row['doi'], df_extracted['ref_doi'].values[0], row['introduction'], row['ref_introduction'],\n",
    "                                                            row['conclusion'],row['ref_conclusion'],row['related_work'],row['ref_related_work'], row['authors'], row['ref_authors']])\n",
    "            \n",
    "    else:\n",
    "        train_context_filled.append(list(row.values))\n"
   ]
  },
  {
   "cell_type": "code",
   "execution_count": null,
   "metadata": {},
   "outputs": [],
   "source": [
    "df_train_context_filled = pd.DataFrame(train_context_filled, columns=df_test_pub_context.columns)"
   ]
  },
  {
   "cell_type": "code",
   "execution_count": null,
   "metadata": {
    "scrolled": false
   },
   "outputs": [],
   "source": [
    "df_train_context_filled.head()"
   ]
  },
  {
   "cell_type": "code",
   "execution_count": null,
   "metadata": {},
   "outputs": [],
   "source": [
    "df_train_context_filled.to_csv('train_context_filled.csv', index=False)"
   ]
  },
  {
   "cell_type": "code",
   "execution_count": null,
   "metadata": {},
   "outputs": [],
   "source": [
    "test_context_filled = []\n",
    "\n",
    "for i, row in tqdm(df_test_pub_gen_context.iterrows(), total=df_test_pub_gen_context.shape[0]):\n",
    "    if pd.isna(row['ref_pid']):\n",
    "        df_extracted = df_OAG_sort[df_OAG_sort.ref_title==row['ref_title']]\n",
    "        if df_extracted.shape[0]==0:\n",
    "            test_context_filled.append(list(row.values))\n",
    "        else:\n",
    "            test_context_filled.append([row['pid'], row['title'], df_extracted['ref_pid'].values[0], row['bid'],row['ref_title'], row['context'],\n",
    "                                                             row['context_clean'], row['abstract'], df_extracted['ref_abstract'].values[0], row['xml_ref_count'], \n",
    "                                                             row['context_bibr_count'],row['context_target_bibr_count'],  \n",
    "                                                             row['context_other_bibr_count'], row['keywords'], df_extracted['ref_keywords'].values[0], row['year'], \n",
    "                                                             int(df_extracted['ref_year'].values[0]), row['venue'], df_extracted['ref_venue'].values[0], row['org'], \n",
    "                                                             row['ref_org'], row['doi'], df_extracted['ref_doi'].values[0], row['introduction'], row['ref_introduction'],\n",
    "                                                            row['conclusion'],row['ref_conclusion'],row['related_work'],row['ref_related_work'], row['authors'], row['ref_authors']])\n",
    "    else:\n",
    "        test_context_filled.append(list(row.values))"
   ]
  },
  {
   "cell_type": "code",
   "execution_count": null,
   "metadata": {},
   "outputs": [],
   "source": [
    "df_test_context_filled = pd.DataFrame(test_context_filled, columns=df_train_context.columns)"
   ]
  },
  {
   "cell_type": "code",
   "execution_count": null,
   "metadata": {},
   "outputs": [],
   "source": [
    "df_test_context_filled.to_csv('test_pub_gen_context_filled.csv', index=False)"
   ]
  },
  {
   "cell_type": "code",
   "execution_count": null,
   "metadata": {},
   "outputs": [],
   "source": []
  },
  {
   "cell_type": "code",
   "execution_count": null,
   "metadata": {},
   "outputs": [],
   "source": [
    "df_train_context = pd.read_csv('train_context_filled.csv')\n",
    "df_test_context = pd.read_csv('test_pub_gen_context_filled.csv')"
   ]
  },
  {
   "cell_type": "code",
   "execution_count": null,
   "metadata": {},
   "outputs": [],
   "source": [
    "pid_list = np.concatenate([df_train_context['pid'].dropna().unique(),\n",
    "                                              df_train_context['ref_pid'].dropna().unique(),\n",
    "                                              df_test_context['pid'].dropna().unique(),\n",
    "                                              df_test_context['ref_pid'].dropna().unique()])"
   ]
  },
  {
   "cell_type": "code",
   "execution_count": null,
   "metadata": {
    "scrolled": true
   },
   "outputs": [],
   "source": [
    "pid_list[:5]"
   ]
  },
  {
   "cell_type": "code",
   "execution_count": null,
   "metadata": {},
   "outputs": [],
   "source": [
    "df_OAG_extracted = pd.DataFrame([], columns=['id','title','n_citation'])\n",
    "\n",
    "for j in range(1,14):\n",
    "    for i in range(10):\n",
    "        print(j, i)\n",
    "        finename = \"v3.1_oag_publication_\"+str(j)+\"_0\"+str(i)\n",
    "        src_fiile = finename+\".json\"\n",
    "        out_file = finename+\".gz\"\n",
    "        start_time = time.time()\n",
    "        \n",
    "        try:\n",
    "            df = [json.loads(line)\n",
    "                    for line in open(os.path.join(oag_path, src_fiile), 'r', encoding='utf-8')]\n",
    "            print('Finish loading', time.time() - start_time)\n",
    "            df = pd.DataFrame(df)\n",
    "            df_OAG_extracted = pd.concat([df_OAG_extracted, df[df.id.isin(pid_list)][['id','title','n_citation']]])\n",
    "            print('Finish extracting', time.time() - start_time)\n",
    "        except:\n",
    "            print('Not exist', src_fiile)"
   ]
  },
  {
   "cell_type": "code",
   "execution_count": null,
   "metadata": {},
   "outputs": [],
   "source": [
    "df_train_context = pd.merge(df_train_context, df_OAG_extracted[['id','n_citation']], left_on='pid',right_on='id', how='left')"
   ]
  },
  {
   "cell_type": "code",
   "execution_count": null,
   "metadata": {},
   "outputs": [],
   "source": [
    "df_train_context = pd.merge(df_train_context, df_OAG_extracted[['id','n_citation']], left_on='ref_pid',right_on='id', how='left')\n",
    "df_train_context = df_train_context.drop(columns=['id_x','id_y'])\n",
    "df_train_context = df_train_context.rename(columns={'n_citation_x':'n_citation', 'n_citation_y':'ref_n_citation'})\n",
    "df_train_context"
   ]
  },
  {
   "cell_type": "code",
   "execution_count": null,
   "metadata": {},
   "outputs": [],
   "source": [
    "df_test_context = pd.merge(df_test_context, df_OAG_extracted[['id','n_citation']], left_on='pid',right_on='id', how='left')"
   ]
  },
  {
   "cell_type": "code",
   "execution_count": null,
   "metadata": {},
   "outputs": [],
   "source": [
    "df_test_context = pd.merge(df_test_context, df_OAG_extracted[['id','n_citation']], left_on='ref_pid',right_on='id', how='left')\n",
    "df_test_context = df_test_context.drop(columns=['id_x','id_y'])\n",
    "df_test_context = df_test_context.rename(columns={'n_citation_x':'n_citation', 'n_citation_y':'ref_n_citation'})\n",
    "df_test_context"
   ]
  },
  {
   "cell_type": "code",
   "execution_count": null,
   "metadata": {},
   "outputs": [],
   "source": [
    "print(df_train_context.shape)\n",
    "print(df_test_context.shape)\n",
    "\n",
    "print(df_test_pub_context.shape)\n",
    "print(df_test_pub_gen_context.shape)"
   ]
  },
  {
   "cell_type": "code",
   "execution_count": null,
   "metadata": {},
   "outputs": [],
   "source": [
    "df_train_context.to_csv('train_context_filled_citation.csv',index=False)\n",
    "df_test_context.to_csv('test_pub_gen_context_filled_citation.csv',index=False)"
   ]
  }
 ],
 "metadata": {
  "kernelspec": {
   "display_name": "Python 3",
   "language": "python",
   "name": "python3"
  },
  "language_info": {
   "codemirror_mode": {
    "name": "ipython",
    "version": 3
   },
   "file_extension": ".py",
   "mimetype": "text/x-python",
   "name": "python",
   "nbconvert_exporter": "python",
   "pygments_lexer": "ipython3",
   "version": "3.8.5"
  }
 },
 "nbformat": 4,
 "nbformat_minor": 4
}
